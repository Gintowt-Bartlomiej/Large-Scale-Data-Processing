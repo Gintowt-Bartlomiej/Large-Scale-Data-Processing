{
 "cells": [
  {
   "cell_type": "markdown",
   "id": "2765aae0",
   "metadata": {},
   "source": [
    "# Laboratorium 6\n",
    "\n",
    "## Wykorzystanie Spark w trybie wsadowym"
   ]
  },
  {
   "cell_type": "markdown",
   "id": "1b5cb7f1",
   "metadata": {},
   "source": [
    "### Linki\n",
    "\n",
    "* [Apache Spark internals](https://books.japila.pl/apache-spark-internals/overview/)\n",
    "* [Mastering Spark SQL](https://jaceklaskowski.gitbooks.io/mastering-spark-sql/content/)\n",
    "* [Spark Docs](https://spark.apache.org/docs/latest/quick-start.html)"
   ]
  },
  {
   "cell_type": "markdown",
   "id": "991685c3",
   "metadata": {},
   "source": [
    "\n",
    "\n",
    "## Zadanie 6.1 \n",
    "\n",
    "Przeanalizuj załączonego w repozytorium docker-compose.yaml. Jak wygląda architektura przygotowanego systemu? \n",
    "\n",
    "Uruchom środowisko:\n",
    "- najpierw uruchom mastera i workery: `docker compose up -d spark-master spark-worker`\n",
    "- w osobnej konsoli wyświetl logi: `docker compose logs -f`\n",
    "- następnie uruchom przykładową aplikację: `docker-compose up spark-app`\n",
    "\n",
    "Znajdź w logach informację o wersji Sparka."
   ]
  },
  {
   "cell_type": "markdown",
   "id": "9e0ac5c7",
   "metadata": {},
   "source": [
    "## Zadanie 6.2\n",
    "\n",
    "Stwórz aplikację Spark, która wygeneruje 10 000 000 losowych liczb double w 10 partycjach. Stwórz na początku listę 10 liczb, z wykorzystaniem sparka dokonaj rozproszenia, zmapuj każdą partycję na odpowiednią liczbę losowych doubli. W jaki sposób zainicjować generator liczb losowych tak aby liczby były losowe oraz mieć pewność że nie trafimy na sytuację gdy dwie partycje mają taki sam seed (sygnatura funkcji mapowania zawiera potrzebny seed), dlaczego należy tak robić?"
   ]
  },
  {
   "cell_type": "markdown",
   "id": "2688873f",
   "metadata": {},
   "source": [
    "## Zadanie 6.3\n",
    "\n",
    "Stwórz aplikację spark, która wygeneruje 1 000 000 losowych stringów o losowej długości z zadanego (konfigurowalnego przedziału), następnie zapisz je na dysku. Stwórz kolejną aplikację która wczyta zapisane dane oraz policzy liczbe znaków."
   ]
  },
  {
   "cell_type": "markdown",
   "id": "0bc95e7b",
   "metadata": {},
   "source": [
    "## Zadanie 6.4\n",
    "\n",
    "Zapoznaj się ze Spark-UI. Znajdź stronę na której widać DAG dla zadania 3."
   ]
  }
 ],
 "metadata": {
  "kernelspec": {
   "display_name": "Python 3 (ipykernel)",
   "language": "python",
   "name": "python3"
  },
  "language_info": {
   "codemirror_mode": {
    "name": "ipython",
    "version": 3
   },
   "file_extension": ".py",
   "mimetype": "text/x-python",
   "name": "python",
   "nbconvert_exporter": "python",
   "pygments_lexer": "ipython3",
   "version": "3.10.14"
  }
 },
 "nbformat": 4,
 "nbformat_minor": 5
}
