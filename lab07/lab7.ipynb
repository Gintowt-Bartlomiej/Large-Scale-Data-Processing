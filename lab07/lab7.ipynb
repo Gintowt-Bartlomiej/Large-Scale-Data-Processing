{
 "cells": [
  {
   "cell_type": "markdown",
   "id": "3ebad1ad",
   "metadata": {},
   "source": [
    "# Laboratorium 7\n",
    "\n",
    "## Wykorzystanie Flink"
   ]
  },
  {
   "cell_type": "markdown",
   "id": "d35f95d7",
   "metadata": {},
   "source": [
    "### Linki\n",
    "\n",
    "* [Flink Docs](https://nightlies.apache.org/flink/flink-docs-release-1.2/)\n",
    "* [PyFLink](https://nightlies.apache.org/flink/flink-docs-release-1.14/docs/dev/python/datastream_tutorial/)"
   ]
  },
  {
   "cell_type": "markdown",
   "id": "febc6377",
   "metadata": {},
   "source": [
    "\n",
    "## Zadanie 7.0 \n",
    "\n",
    "Przetestuj Flinka lokalnie:\n",
    "\n",
    "* Zainstaluj Javę (JDK21)\n",
    "* Utwórz środowisko wirtualne (`python -m venv .venv`), aktywuj je (`source .venv/bin/activate`) i zainstaluj zależności `pip install apache-flink`\n",
    "* Uruchom przykładową aplikację Flinkową  `python sample.py`"
   ]
  },
  {
   "cell_type": "markdown",
   "id": "d03fc836",
   "metadata": {},
   "source": [
    "\n",
    "\n",
    "## Zadanie 7.1\n",
    "\n",
    "Przygotuj środowisko do uruchomienia aplikacji Flink z zastosowaniem Dockera/Docker-Compose'a (zobacz: `https://nightlies.apache.org/flink/flink-docs-master/docs/deployment/resource-providers/standalone/docker/`). Pamiętaj o zweryfikowaniu pobranej dystrybucji Flinka."
   ]
  },
  {
   "cell_type": "markdown",
   "id": "0a85176a",
   "metadata": {},
   "source": [
    "## Zadanie 7.2\n",
    "\n",
    "Stwórz przykładową aplikację Flink, która wygeneruje 10 000 000 losowych liczb double oraz zapisze je do pliku"
   ]
  },
  {
   "cell_type": "markdown",
   "id": "eb043278",
   "metadata": {},
   "source": [
    "## Zadanie 7.3\n",
    "\n",
    "Stwórz aplikację Flink, która wygeneruje 1 000 000 losowych stringów o losowej długości z zadanego (konfigurowalnego przedziału), następnie zapisz je na dysku. Stwórz kolejną aplikację która wczyta zapisane dane oraz policzy liczbe znaków."
   ]
  },
  {
   "cell_type": "markdown",
   "id": "f0ac6f5f",
   "metadata": {},
   "source": [
    "## Zadanie 7.4\n",
    "\n",
    "Zapoznaj się ze Web-UI Flinka, dodaj odpowiednie mapowanie portów do docker-compose.yaml tak by uzyskać do niego dostęp. "
   ]
  },
  {
   "cell_type": "markdown",
   "id": "f2f617f2",
   "metadata": {},
   "source": [
    "## Zadanie 7.5\n",
    "\n",
    "Stwórz kolejną aplikację która policzy liczbę słów w zadanym dodatkowym źródle danych. Znajdź dowolne źródło oraz przygotuj skrypt bash który je pobierze oraz umożliwi przetwarzanie za pomocą przygotowanej aplikacji.\n"
   ]
  }
 ],
 "metadata": {
  "kernelspec": {
   "display_name": "Python 3 (ipykernel)",
   "language": "python",
   "name": "python3"
  },
  "language_info": {
   "codemirror_mode": {
    "name": "ipython",
    "version": 3
   },
   "file_extension": ".py",
   "mimetype": "text/x-python",
   "name": "python",
   "nbconvert_exporter": "python",
   "pygments_lexer": "ipython3",
   "version": "3.10.14"
  }
 },
 "nbformat": 4,
 "nbformat_minor": 5
}
